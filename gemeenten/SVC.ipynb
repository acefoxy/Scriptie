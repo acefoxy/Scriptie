{
 "cells": [
  {
   "cell_type": "code",
   "execution_count": 58,
   "metadata": {},
   "outputs": [],
   "source": [
    "#import\n",
    "import pandas as pd\n",
    "from sklearn.metrics import classification_report\n",
    "from sklearn.svm import LinearSVC\n",
    "import numpy as np\n",
    "\n",
    "\n",
    "\n",
    "#import bestanden, 2010, 2012 of 2017\n",
    "df = pd.read_csv('TK2010_revised.csv', sep=',' ,encoding= 'latin1')\n",
    "df = df[['gemeente','Partij']]\n",
    "\n",
    "df2 = pd.read_csv('2010_all.csv',sep=',')\n",
    "df2 = df2.rename(columns={\"Regio's\": \"gemeente\"})\n",
    "df2 = df2[np.isfinite(df2['Bevolking/Bevolkingssamenstelling op 1 januari/Totale bevolking (aantal)'])]\n",
    "\n",
    "\n",
    "df3 = pd.merge(df,df2, on='gemeente')\n",
    "\n",
    "\n",
    "\n",
    "\n",
    "#NUMBER = list(df3.columns[3:])\n",
    "\n",
    "#selecteer variabelen\n",
    "\n",
    "NUMBER = list(df3.columns[pd.Series(df3.columns).str.startswith('Bevolking')])\n",
    "\n"
   ]
  },
  {
   "cell_type": "code",
   "execution_count": 59,
   "metadata": {},
   "outputs": [
    {
     "name": "stdout",
     "output_type": "stream",
     "text": [
      "(1643, 89)\n",
      "(1643,)\n"
     ]
    },
    {
     "data": {
      "text/plain": [
       "LinearSVC(C=1.0, class_weight=None, dual=True, fit_intercept=True,\n",
       "     intercept_scaling=1, loss='squared_hinge', max_iter=1000,\n",
       "     multi_class='ovr', penalty='l2', random_state=None, tol=0.0001,\n",
       "     verbose=0)"
      ]
     },
     "execution_count": 59,
     "metadata": {},
     "output_type": "execute_result"
    }
   ],
   "source": [
    "import numpy as np\n",
    "numeric_data_only = df3[NUMBER].fillna(-1000)\n",
    "\n",
    "X = numeric_data_only\n",
    "\n",
    "label_dummies = df3['Partij']\n",
    "y = label_dummies\n",
    "\n",
    "\n",
    "print(X.shape)\n",
    "print(y.shape)\n",
    "\n",
    "\n",
    "#selecteer algoritme en fit\n",
    "clf2 = LinearSVC()\n",
    "\n",
    "clf2.fit(X,y)"
   ]
  },
  {
   "cell_type": "code",
   "execution_count": 63,
   "metadata": {},
   "outputs": [
    {
     "name": "stdout",
     "output_type": "stream",
     "text": [
      "0.4946236559139785\n",
      "             precision    recall  f1-score   support\n",
      "\n",
      "        CDA       0.57      0.19      0.28        69\n",
      "       PVDA       0.67      0.02      0.05        83\n",
      "        PVV       1.00      0.05      0.10        38\n",
      "        SGP       0.50      0.11      0.18         9\n",
      "         SP       0.00      0.00      0.00         4\n",
      "        VVD       0.49      0.98      0.65       169\n",
      "\n",
      "avg / total       0.59      0.49      0.37       372\n",
      "\n"
     ]
    },
    {
     "data": {
      "text/plain": [
       "Partij     SGP\n",
       "Partij2    CDA\n",
       "Name: Aalburg, dtype: object"
      ]
     },
     "execution_count": 63,
     "metadata": {},
     "output_type": "execute_result"
    }
   ],
   "source": [
    "#selecteer 2017 om te voorspellen\n",
    "\n",
    "holdout = pd.read_csv('2017_all.csv',index_col=0, sep=',')\n",
    "\n",
    "holdout = holdout.rename(columns={\"Regio's\": 'gemeente'})\n",
    "\n",
    "\n",
    "holdout = holdout[np.isfinite(holdout['Bevolking/Bevolkingssamenstelling op 1 januari/Totale bevolking (aantal)'])]\n",
    "holdout2 = pd.read_csv('TK2017_revised.csv', sep=',' ,encoding= 'latin1')\n",
    "holdout2 = holdout2[['gemeente','Partij']]\n",
    "holdout2 = holdout2.set_index('gemeente')\n",
    "\n",
    "\n",
    "\n",
    "X2 = holdout[NUMBER].fillna(-1000).values\n",
    "\n",
    "predictions = clf2.predict(X2)\n",
    "\n",
    "\n",
    "\n",
    "\n",
    "#make arrays of same length\n",
    "#Format predictions in DataFrame: prediction_df\n",
    "prediction_df = pd.DataFrame(\n",
    "                             index=holdout['gemeente'],\n",
    "                            data=predictions)\n",
    "\n",
    "\n",
    "prediction_df.rename(columns={0: \"Partij2\"},inplace=True)\n",
    "prediction_df = prediction_df.iloc[::5, :]\n",
    "\n",
    "\n",
    "\n",
    "\n",
    "prediction_df = prediction_df[['Partij2']]\n",
    "\n",
    "\n",
    "final = pd.merge(holdout2, prediction_df, left_index=True, right_index=True)\n",
    "\n",
    "\n",
    "a = final.Partij.values\n",
    "b = final.Partij2.values\n",
    "\n",
    "\n",
    "from sklearn.metrics import accuracy_score\n",
    "\n",
    "print(accuracy_score(a,b,normalize=True))\n",
    "\n",
    "\n",
    "#classificationreport\n",
    "print(classification_report(a, b))\n",
    "\n"
   ]
  },
  {
   "cell_type": "code",
   "execution_count": null,
   "metadata": {},
   "outputs": [],
   "source": []
  },
  {
   "cell_type": "code",
   "execution_count": 66,
   "metadata": {},
   "outputs": [
    {
     "data": {
      "text/plain": [
       "VVD     73\n",
       "CDA      7\n",
       "PVDA     2\n",
       "SP       1\n",
       "Name: Partij2, dtype: int64"
      ]
     },
     "execution_count": 66,
     "metadata": {},
     "output_type": "execute_result"
    }
   ],
   "source": [
    "a = final[final.Partij == 'PVDA']\n",
    "\n",
    "\n",
    "a.Partij2.value_counts()"
   ]
  },
  {
   "cell_type": "code",
   "execution_count": null,
   "metadata": {},
   "outputs": [],
   "source": []
  },
  {
   "cell_type": "code",
   "execution_count": null,
   "metadata": {},
   "outputs": [],
   "source": []
  }
 ],
 "metadata": {
  "kernelspec": {
   "display_name": "Python 3",
   "language": "python",
   "name": "python3"
  },
  "language_info": {
   "codemirror_mode": {
    "name": "ipython",
    "version": 3
   },
   "file_extension": ".py",
   "mimetype": "text/x-python",
   "name": "python",
   "nbconvert_exporter": "python",
   "pygments_lexer": "ipython3",
   "version": "3.6.5"
  }
 },
 "nbformat": 4,
 "nbformat_minor": 2
}
