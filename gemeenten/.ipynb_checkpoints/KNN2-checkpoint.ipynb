{
 "cells": [
  {
   "cell_type": "code",
   "execution_count": 93,
   "metadata": {},
   "outputs": [],
   "source": [
    "import pandas as pd\n",
    "from sklearn.metrics import classification_report\n",
    "from sklearn.svm import LinearSVC\n",
    "import numpy as np\n",
    "\n",
    "\n",
    "df = pd.read_csv('TK2010_revised.csv', sep=',' ,encoding= 'latin1')\n",
    "df = df[['gemeente','Partij']]\n",
    "\n",
    "df2 = pd.read_csv('2010_all.csv',sep=',')\n",
    "df2 = df2.rename(columns={\"Regio's\": \"gemeente\"})\n",
    "df2 = df2[np.isfinite(df2['Bevolking/Bevolkingssamenstelling op 1 januari/Totale bevolking (aantal)'])]\n",
    "\n",
    "\n",
    "df3 = pd.merge(df,df2, on='gemeente')\n",
    "\n",
    "\n",
    "\n",
    "\n",
    "#NUMBER = list(df3.columns[3:])\n",
    "\n",
    "\n",
    "\n",
    "NUMBER = list(df3.columns[pd.Series(df3.columns).str.startswith('Bevolking')] | df3.columns[pd.Series(df3.columns).str.startswith('Sociale')] )\n",
    "\n"
   ]
  },
  {
   "cell_type": "code",
   "execution_count": 94,
   "metadata": {},
   "outputs": [
    {
     "name": "stdout",
     "output_type": "stream",
     "text": [
      "(1643, 101)\n",
      "(1643,)\n"
     ]
    },
    {
     "data": {
      "text/plain": [
       "KNeighborsClassifier(algorithm='auto', leaf_size=30, metric='minkowski',\n",
       "           metric_params=None, n_jobs=1, n_neighbors=3, p=2,\n",
       "           weights='uniform')"
      ]
     },
     "execution_count": 94,
     "metadata": {},
     "output_type": "execute_result"
    }
   ],
   "source": [
    "import numpy as np\n",
    "numeric_data_only = df3[NUMBER].fillna(-1000)\n",
    "\n",
    "X = numeric_data_only\n",
    "\n",
    "\n",
    "# Get labels and convert to dummy variables: label_dummies\n",
    "label_dummies = df3['Partij']\n",
    "y = label_dummies\n",
    "\n",
    "\n",
    "print(X.shape)\n",
    "print(y.shape)\n",
    "from sklearn.svm import SVC\n",
    "from sklearn.neighbors import KNeighborsClassifier\n",
    "\n",
    "clf2 = KNeighborsClassifier(n_neighbors=3)\n",
    "\n",
    "clf2.fit(X,y)"
   ]
  },
  {
   "cell_type": "code",
   "execution_count": 95,
   "metadata": {},
   "outputs": [
    {
     "name": "stdout",
     "output_type": "stream",
     "text": [
      "             precision    recall  f1-score   support\n",
      "\n",
      "        CDA       0.34      0.49      0.40        49\n",
      "         CU       0.00      0.00      0.00         2\n",
      "        D66       0.00      0.00      0.00         3\n",
      "         GL       0.00      0.00      0.00         2\n",
      "       PVDA       0.00      0.00      0.00         0\n",
      "        PVV       0.29      0.52      0.37        21\n",
      "        SGP       0.50      0.23      0.32        13\n",
      "         SP       0.50      0.12      0.20         8\n",
      "        VVD       0.91      0.53      0.67       274\n",
      "\n",
      "avg / total       0.76      0.49      0.58       372\n",
      "\n"
     ]
    },
    {
     "name": "stderr",
     "output_type": "stream",
     "text": [
      "/Users/macbook/anaconda3/lib/python3.6/site-packages/sklearn/metrics/classification.py:1135: UndefinedMetricWarning: Precision and F-score are ill-defined and being set to 0.0 in labels with no predicted samples.\n",
      "  'precision', 'predicted', average, warn_for)\n",
      "/Users/macbook/anaconda3/lib/python3.6/site-packages/sklearn/metrics/classification.py:1137: UndefinedMetricWarning: Recall and F-score are ill-defined and being set to 0.0 in labels with no true samples.\n",
      "  'recall', 'true', average, warn_for)\n"
     ]
    },
    {
     "data": {
      "text/html": [
       "<div>\n",
       "<style scoped>\n",
       "    .dataframe tbody tr th:only-of-type {\n",
       "        vertical-align: middle;\n",
       "    }\n",
       "\n",
       "    .dataframe tbody tr th {\n",
       "        vertical-align: top;\n",
       "    }\n",
       "\n",
       "    .dataframe thead th {\n",
       "        text-align: right;\n",
       "    }\n",
       "</style>\n",
       "<table border=\"1\" class=\"dataframe\">\n",
       "  <thead>\n",
       "    <tr style=\"text-align: right;\">\n",
       "      <th></th>\n",
       "      <th>Partij</th>\n",
       "      <th>Partij2</th>\n",
       "    </tr>\n",
       "    <tr>\n",
       "      <th>gemeente</th>\n",
       "      <th></th>\n",
       "      <th></th>\n",
       "    </tr>\n",
       "  </thead>\n",
       "  <tbody>\n",
       "    <tr>\n",
       "      <th>Appingedam</th>\n",
       "      <td>SP</td>\n",
       "      <td>PVDA</td>\n",
       "    </tr>\n",
       "    <tr>\n",
       "      <th>Bedum</th>\n",
       "      <td>CDA</td>\n",
       "      <td>PVDA</td>\n",
       "    </tr>\n",
       "    <tr>\n",
       "      <th>Bellingwedde</th>\n",
       "      <td>PVV</td>\n",
       "      <td>PVDA</td>\n",
       "    </tr>\n",
       "    <tr>\n",
       "      <th>De Marne</th>\n",
       "      <td>CDA</td>\n",
       "      <td>PVDA</td>\n",
       "    </tr>\n",
       "    <tr>\n",
       "      <th>Delfzijl</th>\n",
       "      <td>SP</td>\n",
       "      <td>VVD</td>\n",
       "    </tr>\n",
       "  </tbody>\n",
       "</table>\n",
       "</div>"
      ],
      "text/plain": [
       "             Partij Partij2\n",
       "gemeente                   \n",
       "Appingedam       SP    PVDA\n",
       "Bedum           CDA    PVDA\n",
       "Bellingwedde    PVV    PVDA\n",
       "De Marne        CDA    PVDA\n",
       "Delfzijl         SP     VVD"
      ]
     },
     "execution_count": 95,
     "metadata": {},
     "output_type": "execute_result"
    }
   ],
   "source": [
    "holdout = pd.read_csv('2017_all.csv',index_col=0, sep=',')\n",
    "\n",
    "holdout = holdout.rename(columns={\"Regio's\": 'gemeente'})\n",
    "\n",
    "\n",
    "holdout = holdout[np.isfinite(holdout['Bevolking/Bevolkingssamenstelling op 1 januari/Totale bevolking (aantal)'])]\n",
    "holdout2 = pd.read_csv('TK2017_revised.csv', sep=',' ,encoding= 'latin1')\n",
    "holdout2 = holdout2[['gemeente','Partij']]\n",
    "holdout2 = holdout2.set_index('gemeente')\n",
    "\n",
    "\n",
    "\n",
    "X2 = holdout[NUMBER].fillna(-1000).values\n",
    "\n",
    "predictions = clf2.predict(X2)\n",
    "\n",
    "\n",
    "\n",
    "\n",
    "#make arrays of same length\n",
    "#Format predictions in DataFrame: prediction_df\n",
    "prediction_df = pd.DataFrame(\n",
    "                             index=holdout['gemeente'],\n",
    "                            data=predictions)\n",
    "\n",
    "\n",
    "prediction_df.rename(columns={0: \"Partij2\"},inplace=True)\n",
    "prediction_df = prediction_df.iloc[::5, :]\n",
    "\n",
    "\n",
    "\n",
    "\n",
    "prediction_df = prediction_df[['Partij2']]\n",
    "\n",
    "\n",
    "final = pd.merge(holdout2, prediction_df, left_index=True, right_index=True)\n",
    "\n",
    "\n",
    "a = final.Partij.values\n",
    "b = final.Partij2.values\n",
    "\n",
    "print(classification_report(a, b))\n",
    "\n",
    "final.head()"
   ]
  },
  {
   "cell_type": "code",
   "execution_count": null,
   "metadata": {},
   "outputs": [],
   "source": []
  },
  {
   "cell_type": "code",
   "execution_count": null,
   "metadata": {},
   "outputs": [],
   "source": []
  }
 ],
 "metadata": {
  "kernelspec": {
   "display_name": "Python 3",
   "language": "python",
   "name": "python3"
  },
  "language_info": {
   "codemirror_mode": {
    "name": "ipython",
    "version": 3
   },
   "file_extension": ".py",
   "mimetype": "text/x-python",
   "name": "python",
   "nbconvert_exporter": "python",
   "pygments_lexer": "ipython3",
   "version": "3.6.5"
  }
 },
 "nbformat": 4,
 "nbformat_minor": 2
}
