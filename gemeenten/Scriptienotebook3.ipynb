{
 "cells": [
  {
   "cell_type": "code",
   "execution_count": 1,
   "metadata": {},
   "outputs": [],
   "source": [
    "import pandas as pd\n",
    "import glob"
   ]
  },
  {
   "cell_type": "code",
   "execution_count": 37,
   "metadata": {},
   "outputs": [],
   "source": [
    "\n",
    "filenames = glob.glob(\"Verdeling_data_Tweede_Kamer_9_juni 2010_*.csv\")"
   ]
  },
  {
   "cell_type": "code",
   "execution_count": 52,
   "metadata": {},
   "outputs": [],
   "source": [
    "list_of_dfs = [pd.read_csv(filename) for filename in filenames]\n",
    "\n",
    "for dataframe, filename in zip(list_of_dfs, filenames):\n",
    "    dataframe['gemeente'] = filename[40:-4]"
   ]
  },
  {
   "cell_type": "code",
   "execution_count": 70,
   "metadata": {},
   "outputs": [],
   "source": [
    "combined_df = pd.concat(list_of_dfs, ignore_index=True)\n",
    "\n",
    "combined_df.columns = ['Partij', 'Aantal_stemmen','gemeente']\n",
    "\n",
    "df = combined_df.pivot_table(index='gemeente', columns='Partij', values='Aantal_stemmen')\n",
    "df.rename(columns={'PVV (Partij voor de Vrijheid)': 'PVV', 'Democraten 66 (D66)': 'D66','SP (Socialistische Partij)':'SP','GROENLINKS':'GL','Partij van de Arbeid (P.v.d.A.)':'PVDA','ChristenUnie':'CU','Staatkundig Gereformeerde Partij (SGP)':'SGP','Christen Democratisch Appèl (CDA)': 'CDA'  }, inplace=True)"
   ]
  },
  {
   "cell_type": "code",
   "execution_count": 71,
   "metadata": {},
   "outputs": [],
   "source": [
    "df['Partij'] = df.idxmax(axis=1)\n"
   ]
  },
  {
   "cell_type": "code",
   "execution_count": 73,
   "metadata": {},
   "outputs": [],
   "source": [
    "df.to_csv('TK2010_revised.csv')"
   ]
  },
  {
   "cell_type": "code",
   "execution_count": null,
   "metadata": {},
   "outputs": [],
   "source": []
  }
 ],
 "metadata": {
  "kernelspec": {
   "display_name": "Python 3",
   "language": "python",
   "name": "python3"
  },
  "language_info": {
   "codemirror_mode": {
    "name": "ipython",
    "version": 3
   },
   "file_extension": ".py",
   "mimetype": "text/x-python",
   "name": "python",
   "nbconvert_exporter": "python",
   "pygments_lexer": "ipython3",
   "version": "3.6.5"
  }
 },
 "nbformat": 4,
 "nbformat_minor": 2
}
