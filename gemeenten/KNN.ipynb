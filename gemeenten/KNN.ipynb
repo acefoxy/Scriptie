{
 "cells": [
  {
   "cell_type": "code",
   "execution_count": 8,
   "metadata": {},
   "outputs": [],
   "source": [
    "# Import KNeighborsClassifier from sklearn.neighbors\n",
    "from sklearn.neighbors import KNeighborsClassifier \n",
    "import pandas as pd\n",
    "import numpy as np\n",
    "\n",
    "df = pd.read_csv('TK2010_revised.csv', sep=',' ,encoding= 'latin1')\n",
    "df = df[['gemeente','Partij']]\n",
    "\n",
    "df2 = pd.read_csv('2010_all.csv',sep=',')\n",
    "df2 = df2.rename(columns={\"Regio's\": \"gemeente\"})\n",
    "\n",
    "df2 = df2[np.isfinite(df2['Bevolking/Bevolkingssamenstelling op 1 januari/Totale bevolking (aantal)'])]\n",
    "\n",
    "df3 = pd.merge(df,df2, on='gemeente')\n",
    "\n",
    "NUMBER = list(df3.columns[4:])\n",
    "NUMBER = list(df3.columns[pd.Series(df3.columns).str.startswith('Bevolking')])\n",
    "\n",
    "\n",
    "df4 = pd.read_csv('2017_all.csv',sep=',')\n",
    "df4 = df2.rename(columns={\"Regio's\": \"gemeente\"})\n",
    "\n"
   ]
  },
  {
   "cell_type": "code",
   "execution_count": 10,
   "metadata": {
    "scrolled": true
   },
   "outputs": [
    {
     "data": {
      "text/html": [
       "<div>\n",
       "<style scoped>\n",
       "    .dataframe tbody tr th:only-of-type {\n",
       "        vertical-align: middle;\n",
       "    }\n",
       "\n",
       "    .dataframe tbody tr th {\n",
       "        vertical-align: top;\n",
       "    }\n",
       "\n",
       "    .dataframe thead th {\n",
       "        text-align: right;\n",
       "    }\n",
       "</style>\n",
       "<table border=\"1\" class=\"dataframe\">\n",
       "  <thead>\n",
       "    <tr style=\"text-align: right;\">\n",
       "      <th></th>\n",
       "      <th>gemeente</th>\n",
       "      <th>Partij</th>\n",
       "      <th>Partij_Prediction</th>\n",
       "    </tr>\n",
       "  </thead>\n",
       "  <tbody>\n",
       "    <tr>\n",
       "      <th>0</th>\n",
       "      <td>Appingedam</td>\n",
       "      <td>SP</td>\n",
       "      <td>VVD</td>\n",
       "    </tr>\n",
       "    <tr>\n",
       "      <th>1</th>\n",
       "      <td>Appingedam</td>\n",
       "      <td>SP</td>\n",
       "      <td>VVD</td>\n",
       "    </tr>\n",
       "    <tr>\n",
       "      <th>2</th>\n",
       "      <td>Appingedam</td>\n",
       "      <td>SP</td>\n",
       "      <td>VVD</td>\n",
       "    </tr>\n",
       "    <tr>\n",
       "      <th>3</th>\n",
       "      <td>Appingedam</td>\n",
       "      <td>SP</td>\n",
       "      <td>VVD</td>\n",
       "    </tr>\n",
       "    <tr>\n",
       "      <th>4</th>\n",
       "      <td>Bedum</td>\n",
       "      <td>CDA</td>\n",
       "      <td>VVD</td>\n",
       "    </tr>\n",
       "  </tbody>\n",
       "</table>\n",
       "</div>"
      ],
      "text/plain": [
       "     gemeente Partij Partij_Prediction\n",
       "0  Appingedam     SP               VVD\n",
       "1  Appingedam     SP               VVD\n",
       "2  Appingedam     SP               VVD\n",
       "3  Appingedam     SP               VVD\n",
       "4       Bedum    CDA               VVD"
      ]
     },
     "execution_count": 10,
     "metadata": {},
     "output_type": "execute_result"
    }
   ],
   "source": [
    "# Create arrays for the features and the response variable\n",
    "y = df3['Partij'].values\n",
    "X = df3[NUMBER].fillna(-1000).values\n",
    "\n",
    "\n",
    "\n",
    "# Create a k-NN classifier with 6 neighbors: knn\n",
    "knn = KNeighborsClassifier(n_neighbors=6)\n",
    "\n",
    "# Fit the classifier to the data\n",
    "knn.fit(X,y)\n",
    "\n",
    "\n",
    "\n",
    "\n",
    "\n",
    "# Predict and print the label for the new data point X_new\n",
    "new_prediction = knn.predict(df4[NUMBER].fillna(-1000))\n",
    "\n",
    "\n",
    "z = pd.DataFrame(new_prediction,columns=['Partij_Prediction'])\n",
    "\n",
    "\n",
    "\n",
    "ax = df4.join(z)\n",
    "ax = ax[['gemeente', 'Partij_Prediction']]\n",
    "\n",
    "df7 = pd.read_csv('TK2017_revised.csv', sep=';')\n",
    "\n",
    "\n",
    "df7 = df7[['gemeente','Partij']]\n",
    "\n",
    "final = df7.merge(ax)\n",
    "\n",
    "\n",
    "\n",
    "a = final.Partij.values\n",
    "b = final.Partij_Prediction.values\n",
    "\n",
    "from sklearn.metrics import classification_report\n",
    "\n",
    "\n",
    "#print(classification_report(a, b))"
   ]
  },
  {
   "cell_type": "code",
   "execution_count": 5,
   "metadata": {},
   "outputs": [
    {
     "data": {
      "text/plain": [
       "array(['VVD', 'VVD', 'VVD', ..., 'PVDA', 'PVDA', 'PVDA'], dtype=object)"
      ]
     },
     "execution_count": 5,
     "metadata": {},
     "output_type": "execute_result"
    }
   ],
   "source": []
  },
  {
   "cell_type": "code",
   "execution_count": null,
   "metadata": {},
   "outputs": [],
   "source": []
  }
 ],
 "metadata": {
  "kernelspec": {
   "display_name": "Python 3",
   "language": "python",
   "name": "python3"
  },
  "language_info": {
   "codemirror_mode": {
    "name": "ipython",
    "version": 3
   },
   "file_extension": ".py",
   "mimetype": "text/x-python",
   "name": "python",
   "nbconvert_exporter": "python",
   "pygments_lexer": "ipython3",
   "version": "3.6.5"
  }
 },
 "nbformat": 4,
 "nbformat_minor": 2
}
